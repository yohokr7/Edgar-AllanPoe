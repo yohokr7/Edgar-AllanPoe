{
 "cells": [
  {
   "cell_type": "code",
   "execution_count": 2,
   "metadata": {},
   "outputs": [],
   "source": [
    "import pandas as pd\n",
    "import os\n",
    "import csv"
   ]
  },
  {
   "cell_type": "code",
   "execution_count": 18,
   "metadata": {},
   "outputs": [],
   "source": [
    "company = \"Apple inc\""
   ]
  },
  {
   "cell_type": "code",
   "execution_count": 28,
   "metadata": {
    "scrolled": true
   },
   "outputs": [
    {
     "name": "stdout",
     "output_type": "stream",
     "text": [
      "0001193125-14-024487\n",
      "0001193125-15-023697\n",
      "0001193125-15-023732\n",
      "['0001193125-15-023697', '0001193125-15-023732']\n"
     ]
    }
   ],
   "source": [
    "total_financials = pd.DataFrame\n",
    "years = [2014, 2015]\n",
    "quarters = [1]\n",
    "\n",
    "for year in range(len(years)):\n",
    "    for quarter in range(len(quarters)):\n",
    "        adsh_list = []\n",
    "        \n",
    "        sub_path = os.path.join('..','Financials',f'{years[year]}q{quarters[quarter]}','sub.txt')\n",
    "        \n",
    "        with open(sub_path, newline='') as sub_csv:\n",
    "            sub_df = csv.reader(sub_csv, delimiter=\"\t\")\n",
    "            \n",
    "            for row in sub_df:\n",
    "                if row[2] == company.upper():\n",
    "                    adsh_list.append(row[0])\n",
    "                  \n",
    "        num_path = os.path.join('..','Financials',f'{year+2014}q{quarter+1}','num.txt')\n",
    "        \n",
    "        with open(num)\n",
    "            for adsh in range(len(adsh_list)):\n",
    "                print(adsh_list[adsh])\n",
    "\n",
    "print(adsh_list)"
   ]
  },
  {
   "cell_type": "code",
   "execution_count": 23,
   "metadata": {},
   "outputs": [
    {
     "name": "stdout",
     "output_type": "stream",
     "text": [
      "['0000002178-14-000010', '2178', 'ADAMS RESOURCES & ENERGY, INC.', '5172', 'US', 'TX', 'HOUSTON', '77027', '17 S. BRIAR HOLLOW LN.', '', '7138813600', 'US', 'TX', 'HOUSTON', '77001', 'P O BOX 844', '', 'US', 'DE', '741753147', 'ADAMS RESOURCES & ENERGY INC', '19920703', '2-ACC', '0', '1231', '10-K', '20131231', '2013', 'FY', '20140313', '2014-03-13 15:11:00.0', '0', '1', 'ae-20131231.xml', '1', '']\n"
     ]
    }
   ],
   "source": [
    "sub_path = os.path.join('..','Financials',f'2014q1','sub.txt')\n",
    "\n",
    "with open(sub_path, newline='') as sub_csv:\n",
    "    sub_df = csv.reader(sub_csv, delimiter=\"\t\")\n",
    "    row1 = next(sub_df)\n",
    "    row2 = next(sub_df)\n",
    "    print(row2)"
   ]
  },
  {
   "cell_type": "code",
   "execution_count": null,
   "metadata": {},
   "outputs": [],
   "source": []
  },
  {
   "cell_type": "code",
   "execution_count": 4,
   "metadata": {},
   "outputs": [
    {
     "data": {
      "text/plain": [
       "24"
      ]
     },
     "execution_count": 4,
     "metadata": {},
     "output_type": "execute_result"
    }
   ],
   "source": [
    "from sec_edgar_downloader import Downloader\n",
    "\n",
    "# Initialize a downloader instance.\n",
    "# If no argument is passed to the constructor, the package\n",
    "# will attempt to locate the user's downloads folder.\n",
    "dl = Downloader(os.path.join('..','Financials'))\n",
    "\n",
    "# Get all 8-K filings for Apple (ticker: AAPL)\n",
    "dl.get(\"10-Q\", \"AAPL\", 24)"
   ]
  },
  {
   "cell_type": "code",
   "execution_count": null,
   "metadata": {},
   "outputs": [],
   "source": []
  }
 ],
 "metadata": {
  "kernelspec": {
   "display_name": "Python 3",
   "language": "python",
   "name": "python3"
  },
  "language_info": {
   "codemirror_mode": {
    "name": "ipython",
    "version": 3
   },
   "file_extension": ".py",
   "mimetype": "text/x-python",
   "name": "python",
   "nbconvert_exporter": "python",
   "pygments_lexer": "ipython3",
   "version": "3.7.6"
  }
 },
 "nbformat": 4,
 "nbformat_minor": 4
}
